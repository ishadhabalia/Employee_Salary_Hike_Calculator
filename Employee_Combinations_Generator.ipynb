{
 "cells": [
  {
   "cell_type": "code",
   "execution_count": 18,
   "id": "08788200-20ea-497c-9dd0-115c2ed9cbc1",
   "metadata": {},
   "outputs": [],
   "source": [
    "import csv\n",
    "from itertools import product\n",
    "import hashlib"
   ]
  },
  {
   "cell_type": "code",
   "execution_count": 19,
   "id": "0c3366c3-722d-4070-b236-d52092e329a2",
   "metadata": {},
   "outputs": [],
   "source": [
    "# Define ranges for parameters\n",
    "grades = [1, 2, 3, 4]\n",
    "total_working_years = [1, 2, 4, 9, 14, 20]\n",
    "years_at_company = [1, 2, 4, 9, 14, 20]\n",
    "performance_ratings = [1, 2, 3, 4, 5]\n",
    "average_ratings = [1, 2, 3, 4, 5]\n",
    "years_since_last_promotion = [0, 2, 3, 5]\n",
    "previous_hike_percent = [0, 5, 10, 14]\n",
    "max_perf_rating = (max(performance_ratings))\n",
    "min_perf_rating = (min(performance_ratings))            "
   ]
  },
  {
   "cell_type": "code",
   "execution_count": 20,
   "id": "52638c4c-f583-4902-a1fa-9a8d08e8859b",
   "metadata": {},
   "outputs": [],
   "source": [
    "# Generate all combinations\n",
    "combinations = list(product(\n",
    "    grades, \n",
    "    total_working_years, \n",
    "    years_at_company, \n",
    "    performance_ratings, \n",
    "    average_ratings, \n",
    "    years_since_last_promotion, \n",
    "    previous_hike_percent\n",
    "))"
   ]
  },
  {
   "cell_type": "code",
   "execution_count": 21,
   "id": "d476c543-e81f-4595-9afd-8a5369f0c5fd",
   "metadata": {},
   "outputs": [],
   "source": [
    "# Generate a deterministic EmployeeID\n",
    "\n",
    "def generate_employee_id(index):\n",
    "    # Use a hash of the index for consistent but unique IDs\n",
    "    hash_value = hashlib.sha256(str(index).encode()).hexdigest()\n",
    "    return int(hash_value[:6], 16) % 1000000  # 6-digit ID"
   ]
  },
  {
   "cell_type": "code",
   "execution_count": 22,
   "id": "8c004279-3398-4b15-9b19-b74691dc0bbe",
   "metadata": {},
   "outputs": [],
   "source": [
    "# Filter combinations to ensure logical consistency\n",
    "def is_valid_combination(comb):\n",
    "    grade, total_years, years_at_company, perf_rating, avg_rating, years_promo, prev_hike = comb\n",
    "    # Years at company cannot exceed total working years\n",
    "    if years_at_company > total_years:\n",
    "        return False\n",
    "\n",
    "    if grade == 1 and total_years > 4:\n",
    "        return False\n",
    "    if grade == 2 and total_years < 2 and total_years > 9:\n",
    "        return False\n",
    "    if grade == 3 and total_years < 9 and total_years > 14:\n",
    "        return False\n",
    "    if grade == 4 and total_years < 14:\n",
    "        return False\n",
    "    \n",
    "    #years since last promotion should not exceed the number of years at company\n",
    "    if (years_promo >= years_at_company):\n",
    "        return False\n",
    "\n",
    "    if years_at_company == 1 and avg_rating != perf_rating:\n",
    "        return False\n",
    "    if years_at_company > 1:\n",
    "        if ((avg_rating * years_at_company) - perf_rating) >= max_perf_rating * (years_at_company -1):\n",
    "            return False\n",
    "        if ((avg_rating * years_at_company) - perf_rating) <= min_perf_rating *(years_at_company -1):\n",
    "            return False\n",
    "\n",
    "    if years_at_company == 1 and prev_hike > 0:\n",
    "        return False\n",
    "\n",
    "    if grade == 1 and prev_hike > 10:\n",
    "        return False\n",
    "\n",
    "    if grade == 2 and prev_hike > 14:\n",
    "        return False\n",
    "\n",
    "    if grade == 3 and prev_hike > 14:\n",
    "        return False\n",
    "\n",
    "    if grade == 4 and prev_hike > 14:\n",
    "        return False\n",
    "\n",
    "    return True"
   ]
  },
  {
   "cell_type": "code",
   "execution_count": 23,
   "id": "5718aa47-d251-4e15-ac9e-d3f42af71a58",
   "metadata": {},
   "outputs": [],
   "source": [
    "valid_combinations = [comb for comb in combinations if is_valid_combination(comb)]"
   ]
  },
  {
   "cell_type": "code",
   "execution_count": 24,
   "id": "daa0b1a8-2f50-4cab-85e5-25fa202fcf88",
   "metadata": {},
   "outputs": [
    {
     "name": "stdout",
     "output_type": "stream",
     "text": [
      "CSV file 'employee_details.csv' with 6220 rows generated successfully!\n"
     ]
    }
   ],
   "source": [
    "# Write combinations to CSV\n",
    "output_file = \"employee_details.csv\"\n",
    "headers = [\n",
    "    \"EmployeeID\",\"Grade\", \"TotalWorkingYears\", \"YearsAtCompany\", \"PerformanceRating\", \"AverageRating\", \n",
    "    \"YearsSinceLastPromotion\", \"PreviousHikePercent\"\n",
    "]\n",
    "\n",
    "with open(output_file, mode=\"w\", newline=\"\") as file:\n",
    "    writer = csv.writer(file)\n",
    "    writer.writerow(headers)\n",
    "    for idx, comb in enumerate(valid_combinations):\n",
    "        employee_id = generate_employee_id(idx)\n",
    "        writer.writerow([employee_id] + list(comb))\n",
    "\n",
    "print(f\"CSV file '{output_file}' with {len(valid_combinations)} rows generated successfully!\")"
   ]
  },
  {
   "cell_type": "code",
   "execution_count": null,
   "id": "f4868539-4c8f-456b-a54f-3732520371ad",
   "metadata": {},
   "outputs": [],
   "source": []
  }
 ],
 "metadata": {
  "kernelspec": {
   "display_name": "Python 3 (ipykernel)",
   "language": "python",
   "name": "python3"
  },
  "language_info": {
   "codemirror_mode": {
    "name": "ipython",
    "version": 3
   },
   "file_extension": ".py",
   "mimetype": "text/x-python",
   "name": "python",
   "nbconvert_exporter": "python",
   "pygments_lexer": "ipython3",
   "version": "3.12.7"
  }
 },
 "nbformat": 4,
 "nbformat_minor": 5
}
