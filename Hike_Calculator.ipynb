{
 "cells": [
  {
   "cell_type": "code",
   "execution_count": 1,
   "id": "d96ae4c4-4f17-4e79-8ad4-49c5313c4146",
   "metadata": {},
   "outputs": [],
   "source": [
    "#Assign Base and Max Hike according to Grade\n",
    "hike_range = {1: (8,10), 2: (9,14), 3: (10,13), 4: (5,10)}"
   ]
  },
  {
   "cell_type": "code",
   "execution_count": 2,
   "id": "c9e2616a-dce1-4486-9217-c913e46de731",
   "metadata": {},
   "outputs": [],
   "source": [
    "def get_score_multiplier(current_rating):\n",
    "    if current_rating == 1:\n",
    "        return 0.8  # Lower than 1, indicating poor performance\n",
    "    elif current_rating == 2:\n",
    "        return 1.2  # Slightly above 1, low performance but better than 1\n",
    "    elif current_rating == 3:\n",
    "        return 1.5  # Moderate performance\n",
    "    elif current_rating == 4:\n",
    "        return 1.8  # Good performance, higher multiplier\n",
    "    else:  # Rating == 5\n",
    "        return 2.0  # Excellent performance, highest multiplier"
   ]
  },
  {
   "cell_type": "code",
   "execution_count": 3,
   "id": "f9cdc4ce-1f47-4872-88df-2955d87bbe9f",
   "metadata": {},
   "outputs": [],
   "source": [
    "def get_experience_factor(total_years):\n",
    "    if total_years <= 4:\n",
    "        return 0.3  # Small weightage for early experience\n",
    "    elif total_years <= 9:\n",
    "        return 0.6  # Moderate weight for mid-level experience\n",
    "    elif total_years <= 14:\n",
    "        return 0.8  # Senior-level experience with increased weight\n",
    "    else:\n",
    "        return 1  # Max weight for employees with extensive experience"
   ]
  },
  {
   "cell_type": "code",
   "execution_count": 4,
   "id": "e71e586b-f792-441c-a2e2-9779dc0301c2",
   "metadata": {},
   "outputs": [],
   "source": [
    "def calculate_loyalty_factor(years_at_company, total_years):\n",
    "    factor = years_at_company/total_years\n",
    "    return round(factor, 2)"
   ]
  },
  {
   "cell_type": "code",
   "execution_count": 5,
   "id": "acd1b66a-9671-414d-a4a0-866041f04a11",
   "metadata": {},
   "outputs": [],
   "source": [
    "def get_promotion_factor(last_promotion, average_rating):\n",
    "    \n",
    "    if last_promotion > 2 and average_rating >= 4:\n",
    "        return 1\n",
    "    else:\n",
    "        return 0"
   ]
  },
  {
   "cell_type": "code",
   "execution_count": 6,
   "id": "5f59fbe0-c75a-40a7-9197-296900f72b40",
   "metadata": {},
   "outputs": [],
   "source": [
    "def normalize_current_rating(years_at_company, average_rating, current_rating):\n",
    "    if years_at_company >= 10 and average_rating <= 2:\n",
    "        return (current_rating - 1)\n",
    "    else:\n",
    "        return current_rating"
   ]
  },
  {
   "cell_type": "code",
   "execution_count": 7,
   "id": "90996210-36d9-4c48-b555-4fec4067dffb",
   "metadata": {},
   "outputs": [],
   "source": [
    "def get_hike_adjustment(prev_hike, current_hike):\n",
    "    if prev_hike == 0:\n",
    "        return 0\n",
    "        \n",
    "    hike_ratio = (current_hike - prev_hike)/prev_hike\n",
    "    if hike_ratio >= 0.5:\n",
    "        return -1\n",
    "    else:\n",
    "        return 0   "
   ]
  },
  {
   "cell_type": "code",
   "execution_count": 8,
   "id": "6d7cf592-e2dd-4773-ba88-68183e23c679",
   "metadata": {},
   "outputs": [],
   "source": [
    " def calculate_score(details):\n",
    "     max_score = 10\n",
    "     factors = ['','','','']\n",
    "     total_years = details['TotalWorkingYears']\n",
    "     current_rating = details['PerformanceRating']\n",
    "     years_at_company = details['YearsAtCompany']\n",
    "\n",
    "     if total_years >= 2:\n",
    "         average_rating = details['AverageRating']\n",
    "         current_rating = normalize_current_rating(years_at_company, average_rating, current_rating)\n",
    "\n",
    "     score_multiplier = get_score_multiplier(current_rating)\n",
    "\n",
    "     if total_years < 2:\n",
    "         score = current_rating * score_multiplier\n",
    "     else:\n",
    "         last_promotion = details['YearsSinceLastPromotion']\n",
    "         \n",
    "         experience_factor = get_experience_factor(total_years)\n",
    "         loyalty_factor = calculate_loyalty_factor(years_at_company, total_years)\n",
    "         promotion_factor = get_promotion_factor(last_promotion, average_rating)\n",
    "         rating_factor = current_rating * score_multiplier\n",
    "\n",
    "         factors[0] = experience_factor\n",
    "         factors[1] = loyalty_factor\n",
    "         factors[2] = promotion_factor\n",
    "         factors[3] = rating_factor\n",
    "\n",
    "         calculated_score = experience_factor + loyalty_factor + promotion_factor + rating_factor\n",
    "         score = round(min(calculated_score, max_score), 2)\n",
    "     return score, factors"
   ]
  },
  {
   "cell_type": "code",
   "execution_count": 9,
   "id": "0c8ee98c-2716-4b1d-ae49-2202e6c4b690",
   "metadata": {},
   "outputs": [],
   "source": [
    "def calculate_hike(total_years, grade, prev_hike, score):\n",
    "    \n",
    "    if grade in hike_range:\n",
    "         base_hike, max_hike = hike_range[grade]\n",
    "    else:\n",
    "        pass\n",
    "    \n",
    "    new_hike = ((score/10) * (max_hike - base_hike)) + base_hike\n",
    "\n",
    "    if (total_years >= 2 and prev_hike != 0): #for freshers and new joiners no hike adjustment required\n",
    "        \n",
    "        hike_adjustment = get_hike_adjustment(prev_hike, round(new_hike,2))\n",
    "\n",
    "        if hike_adjustment!=0 :\n",
    "            score += hike_adjustment\n",
    "            new_hike = ((score/10) * (max_hike - base_hike)) + base_hike\n",
    "            \n",
    "    score = round(score,2)\n",
    "    new_hike = round(new_hike,2)\n",
    "    return score, new_hike"
   ]
  },
  {
   "cell_type": "code",
   "execution_count": 10,
   "id": "388f3c7b-e47a-4c1b-a770-359a842b42ba",
   "metadata": {},
   "outputs": [],
   "source": [
    "def calculate_updated_hike(details):\n",
    "\n",
    "    total_years = details['TotalWorkingYears']    \n",
    "    grade = details['Grade']\n",
    "    prev_hike = details['PreviousHikePercent']\n",
    "\n",
    "    \n",
    "    score, factors = calculate_score(details)\n",
    "    updated_score, current_hike = calculate_hike(total_years, grade, prev_hike, score)\n",
    "    rounded_hike = round(current_hike, 2)\n",
    "    \n",
    "    return updated_score, factors, rounded_hike"
   ]
  },
  {
   "cell_type": "code",
   "execution_count": 11,
   "id": "75a96020-b25f-47ac-8a52-6fbb88b456a7",
   "metadata": {},
   "outputs": [],
   "source": [
    "# employee details\n",
    "\n",
    "#Fresher with high rating\n",
    "employee_details1 = {'EmployeeNumber': 1, 'Grade': 1, 'TotalWorkingYears': 1, 'YearsAtCompany': 1, 'PerformanceRating': 5, 'AverageRating': 0, 'YearsSinceLastPromotion': 0, 'PreviousHikePercent': 0}\n",
    "\n",
    "#Fresher with low rating\n",
    "employee_details2 = {'EmployeeNumber': 2, 'Grade': 1, 'TotalWorkingYears': 1, 'YearsAtCompany': 1, 'PerformanceRating': 1, 'AverageRating': 0, 'YearsSinceLastPromotion': 0, 'PreviousHikePercent': 0}\n",
    "\n",
    "#Mid level with high rating\n",
    "employee_details3 = {'EmployeeNumber': 3, 'Grade': 2, 'TotalWorkingYears': 5, 'YearsAtCompany': 5, 'PerformanceRating': 5, 'AverageRating': 5, 'YearsSinceLastPromotion': 3, 'PreviousHikePercent': 14}\n",
    "\n",
    "#Mid level with low rating\n",
    "employee_details4 = {'EmployeeNumber': 4, 'Grade': 2, 'TotalWorkingYears': 5, 'YearsAtCompany': 5, 'PerformanceRating': 1, 'AverageRating': 2, 'YearsSinceLastPromotion': 0, 'PreviousHikePercent': 14}\n",
    "\n",
    "#Mid Senior level with high experience and high rating\n",
    "employee_details5 = {'EmployeeNumber': 5, 'Grade': 3, 'TotalWorkingYears': 10, 'YearsAtCompany': 10, 'PerformanceRating': 4, 'AverageRating': 4, 'YearsSinceLastPromotion': 3, 'PreviousHikePercent': 13}\n",
    "\n",
    "#Mid Senior level with high experience and low rating\n",
    "employee_details6 = {'EmployeeNumber': 6, 'Grade': 3, 'TotalWorkingYears': 10, 'YearsAtCompany': 10, 'PerformanceRating': 2, 'AverageRating': 2, 'YearsSinceLastPromotion': 4, 'PreviousHikePercent': 12}\n",
    "\n",
    "#Senior level with high rating\n",
    "employee_details7 = {'EmployeeNumber': 7, 'Grade': 4, 'TotalWorkingYears': 15, 'YearsAtCompany': 12, 'PerformanceRating': 5, 'AverageRating': 5, 'YearsSinceLastPromotion': 3, 'PreviousHikePercent': 10}\n",
    "\n",
    "#Senior level with low rating\n",
    "employee_details8 = {'EmployeeNumber': 8, 'Grade': 4, 'TotalWorkingYears': 15, 'YearsAtCompany': 12, 'PerformanceRating': 1, 'AverageRating': 2, 'YearsSinceLastPromotion': 0, 'PreviousHikePercent': 10}\n",
    "\n",
    "#Senior level with hike adjustment despite high rating\n",
    "employee_details9 = {'EmployeeNumber': 9, 'Grade': 4, 'TotalWorkingYears': 15, 'YearsAtCompany': 15, 'PerformanceRating': 5, 'AverageRating': 5, 'YearsSinceLastPromotion': 4, 'PreviousHikePercent': 5}\n"
   ]
  },
  {
   "cell_type": "code",
   "execution_count": 12,
   "id": "6b1d464e-7b52-4fab-b26b-5f67d59f6383",
   "metadata": {},
   "outputs": [
    {
     "name": "stdout",
     "output_type": "stream",
     "text": [
      "Grade      Base Hike  Max Hike  \n",
      "1          8          10        \n",
      "2          9          14        \n",
      "3          10         13        \n",
      "4          5          10        \n"
     ]
    }
   ],
   "source": [
    "#display hike range according to grade\n",
    "print(\"{:<10} {:<10} {:<10}\".format('Grade','Base Hike', 'Max Hike'))\n",
    "for grade,hikes in hike_range.items():\n",
    "    base_hike, max_hike = hikes\n",
    "    print(\"{:<10} {:<10} {:<10}\".format(grade, base_hike, max_hike))"
   ]
  },
  {
   "cell_type": "code",
   "execution_count": 13,
   "id": "6466c7df-07ab-47b5-9ff7-b2dbfd0b3228",
   "metadata": {},
   "outputs": [
    {
     "name": "stdout",
     "output_type": "stream",
     "text": [
      "No.   Grade TotalYears YearsAtComp Rating     AvgRating  LastPromotion   PreviousHike    ExpFactor  Loyalty    Promotion  RatingFact Score   Hike   \n",
      "---------------------------------------------------------------------------------------------------------------------------------------------------------\n",
      "1      1     1          1          5          0          0               0                                                           10.0    10.0   \n",
      "---------------------------------------------------------------------------------------------------------------------------------------------------------\n",
      "2      1     1          1          1          0          0               0                                                           0.8     8.16   \n",
      "---------------------------------------------------------------------------------------------------------------------------------------------------------\n",
      "3      2     5          5          5          5          3               14              0.6        1.0        1          10.0       10      14.0   \n",
      "---------------------------------------------------------------------------------------------------------------------------------------------------------\n",
      "4      2     5          5          1          2          0               14              0.6        1.0        0          0.8        2.4     10.2   \n",
      "---------------------------------------------------------------------------------------------------------------------------------------------------------\n",
      "5      3     10         10         4          4          3               13              0.8        1.0        1          7.2        10.0    13.0   \n",
      "---------------------------------------------------------------------------------------------------------------------------------------------------------\n",
      "6      3     10         10         2          2          4               12              0.8        1.0        0          0.8        2.6     10.78  \n",
      "---------------------------------------------------------------------------------------------------------------------------------------------------------\n",
      "7      4     15         12         5          5          3               10              1          0.8        1          10.0       10      10.0   \n",
      "---------------------------------------------------------------------------------------------------------------------------------------------------------\n",
      "8      4     15         12         1          2          0               10              1          0.8        0          0.0        1.8     5.9    \n",
      "---------------------------------------------------------------------------------------------------------------------------------------------------------\n",
      "9      4     15         15         5          5          4               5               1          1.0        1          10.0       9       9.5    \n",
      "---------------------------------------------------------------------------------------------------------------------------------------------------------\n"
     ]
    }
   ],
   "source": [
    "#test cases\n",
    "#display employee details and hike calculations\n",
    "employee_dict = [employee_details1, employee_details2, employee_details3, employee_details4, employee_details5, employee_details6, employee_details7, employee_details8, employee_details9]\n",
    "\n",
    "divider = \"---------------------------------------------------------------------------------------------------------------------------------------------------------\"\n",
    "\n",
    "print(\"{:<5} {:<5} {:<10} {:<10} {:<10} {:<10} {:<15} {:<15} {:<10} {:<10} {:<10} {:<10} {:<7} {:<7}\".format('No.', 'Grade', 'TotalYears', 'YearsAtComp', 'Rating', 'AvgRating', 'LastPromotion', 'PreviousHike', 'ExpFactor','Loyalty', 'Promotion','RatingFact', 'Score', 'Hike'))\n",
    "print(divider)\n",
    "\n",
    "for employee in employee_dict:\n",
    "    score, factors, hike = calculate_updated_hike(employee)   \n",
    "    employee_values = employee.values()\n",
    "    employee_no, grade, total_working, years_at_comp, rating, avg_rating, years_since_promotion, previous_hike = employee_values\n",
    "    print(\"{:<5}  {:<5} {:<10} {:<10} {:<10} {:<10} {:<15} {:<15} {:<10} {:<10} {:<10} {:<10} {:<7} {:<7}\".format(employee_no , grade, total_working, years_at_comp, rating, avg_rating, years_since_promotion, previous_hike, factors[0], factors[1], factors[2], factors[3], score, hike))\n",
    "    print(divider)"
   ]
  },
  {
   "cell_type": "code",
   "execution_count": 14,
   "id": "77a0cd7b-33b3-4e8a-825e-bf60c7deb04a",
   "metadata": {},
   "outputs": [],
   "source": [
    "import csv"
   ]
  },
  {
   "cell_type": "code",
   "execution_count": 15,
   "id": "8fb82e21-578a-4e30-b5ef-1f6b77ada2a1",
   "metadata": {},
   "outputs": [
    {
     "name": "stdout",
     "output_type": "stream",
     "text": [
      "CSV file 'employee_details_with_hike.csv' with 6220 rows generated successfully!\n"
     ]
    }
   ],
   "source": [
    "input_file = 'employee_details.csv'\n",
    "output_file = 'employee_details_with_hike.csv'\n",
    "with open(input_file, newline = '') as employee_details:\n",
    "    reader = csv.DictReader(employee_details)\n",
    "    fieldnames = reader.fieldnames + ['ExpFactor', 'Loyalty', 'Promotion', 'RatingFact', 'Score', 'Hike']  \n",
    "    with open(output_file, newline='', mode='w', encoding='utf-8') as temp_file:\n",
    "        writer = csv.DictWriter(temp_file, fieldnames=fieldnames)\n",
    "        writer.writeheader()\n",
    "        count = 0\n",
    "        for employee in reader:\n",
    "            for key in employee:\n",
    "                if employee[key].isdigit():\n",
    "                    employee[key] = int(employee[key])\n",
    "            score, factors, hike = calculate_updated_hike(employee)\n",
    "            employee_values = employee.values()\n",
    "            employee_no, grade, total_working, years_at_comp, rating, avg_rating, years_since_promotion, previous_hike = employee_values\n",
    "            employee['ExpFactor'] = factors[0]\n",
    "            employee['Loyalty'] = factors[1]\n",
    "            employee['Promotion'] = factors[2]\n",
    "            employee['RatingFact'] = factors[3]\n",
    "            employee['Score'] = score\n",
    "            employee['Hike'] = hike\n",
    "            writer.writerow(employee)\n",
    "            count += 1\n",
    "        print(f\"CSV file '{output_file}' with {count} rows generated successfully!\")"
   ]
  },
  {
   "cell_type": "code",
   "execution_count": null,
   "id": "e34a4d07-b395-4e7f-ace6-8a7024b3553d",
   "metadata": {},
   "outputs": [],
   "source": []
  }
 ],
 "metadata": {
  "kernelspec": {
   "display_name": "Python 3 (ipykernel)",
   "language": "python",
   "name": "python3"
  },
  "language_info": {
   "codemirror_mode": {
    "name": "ipython",
    "version": 3
   },
   "file_extension": ".py",
   "mimetype": "text/x-python",
   "name": "python",
   "nbconvert_exporter": "python",
   "pygments_lexer": "ipython3",
   "version": "3.12.7"
  }
 },
 "nbformat": 4,
 "nbformat_minor": 5
}
